{
 "cells": [
  {
   "cell_type": "markdown",
   "id": "2cc4d02f-4a0d-4afe-9054-1c282e2485e8",
   "metadata": {},
   "source": []
  },
  {
   "cell_type": "code",
   "execution_count": 7,
   "id": "71b3352f-d7ec-451f-8ded-b850f3945895",
   "metadata": {},
   "outputs": [],
   "source": [
    "from datasets import *"
   ]
  },
  {
   "cell_type": "markdown",
   "id": "8f17a51b-7aea-4c22-a470-de769e4b140a",
   "metadata": {},
   "source": [
    "从 VisiumHD 生成 Visium"
   ]
  },
  {
   "cell_type": "code",
   "execution_count": 8,
   "id": "4a396427-4b3a-43f0-bcc3-483fcc5b5919",
   "metadata": {},
   "outputs": [],
   "source": [
    "path = '/data/datasets/Visium_HD_Human_Tonsil_Fresh_Frozen/binned_outputs/square_002um'\n",
    "# path = '/mnt/TenTA-f702/user/zhangyichi/Data/Visium_HD_Human_Tonsil_Fresh_Frozen/binned_outputs/square_002um'\n",
    "imagefile = '/data/datasets/Visium_HD_Human_Tonsil_Fresh_Frozen/Visium_HD_Human_Tonsil_Fresh_Frozen_tissue_image.tif'\n",
    "# imagefile = '/mnt/TenTA-f702/user/zhangyichi/Data/Visium_HD_Human_Tonsil_Fresh_Frozen/Visium_HD_Human_Tonsil_Fresh_Frozen_tissue_image.tif'\n",
    "rawdata = VisiumHDData()\n",
    "rawdata.load(path=path, source_image_path=imagefile)"
   ]
  },
  {
   "cell_type": "code",
   "execution_count": 11,
   "id": "33c5e11c-2555-4a52-b695-ec2912a8e557",
   "metadata": {},
   "outputs": [
    {
     "data": {
      "text/plain": [
       "(5.166298832872042, 0.273735412347224)"
      ]
     },
     "execution_count": 11,
     "metadata": {},
     "output_type": "execute_result"
    }
   ],
   "source": [
    "rawdata.pixel_size,rawdata.scaleF[\"microns_per_pixel\"]"
   ]
  },
  {
   "cell_type": "code",
   "execution_count": 14,
   "id": "8118cbf5-e624-4e3e-99da-626d537c91ea",
   "metadata": {},
   "outputs": [
    {
     "data": {
      "text/plain": [
       "(array([[-3.65286387, -0.01529738],\n",
       "        [-0.01568474,  3.65332029]]),\n",
       " array([31746.06966803, 24362.45341204]))"
      ]
     },
     "execution_count": 14,
     "metadata": {},
     "output_type": "execute_result"
    }
   ],
   "source": [
    "M,T = rawdata.mapper.get_parameters()\n",
    "M,T"
   ]
  },
  {
   "cell_type": "code",
   "execution_count": 20,
   "id": "88ffc3ad-62bf-4d5c-801d-6a9d06b4196b",
   "metadata": {},
   "outputs": [
    {
     "data": {
      "text/plain": [
       "0.9999896594207207"
      ]
     },
     "execution_count": 20,
     "metadata": {},
     "output_type": "execute_result"
    }
   ],
   "source": [
    "s_x = np.linalg.norm(M[:, 0])  # 第1列\n",
    "s_y = np.linalg.norm(M[:, 1])  # 第2列\n",
    "np.mean((s_x,s_y))"
   ]
  },
  {
   "cell_type": "code",
   "execution_count": 3,
   "id": "105e0ebc-ec9f-4d6c-8b91-2e96c71550e1",
   "metadata": {},
   "outputs": [],
   "source": [
    "visium_profile = VisiumProfile(slide_serial=4)"
   ]
  },
  {
   "cell_type": "code",
   "execution_count": null,
   "id": "67801feb-ba9f-4488-a63e-d7a65ae2ac11",
   "metadata": {
    "scrolled": true
   },
   "outputs": [],
   "source": [
    "emulate_visium = rawdata.generate_Visium(visium_profile)"
   ]
  },
  {
   "cell_type": "code",
   "execution_count": 10,
   "id": "ef125734-ee7b-44a1-9298-67941a005c3a",
   "metadata": {
    "scrolled": true
   },
   "outputs": [
    {
     "data": {
      "text/html": [
       "<div>\n",
       "<style scoped>\n",
       "    .dataframe tbody tr th:only-of-type {\n",
       "        vertical-align: middle;\n",
       "    }\n",
       "\n",
       "    .dataframe tbody tr th {\n",
       "        vertical-align: top;\n",
       "    }\n",
       "\n",
       "    .dataframe thead th {\n",
       "        text-align: right;\n",
       "    }\n",
       "</style>\n",
       "<table border=\"1\" class=\"dataframe\">\n",
       "  <thead>\n",
       "    <tr style=\"text-align: right;\">\n",
       "      <th></th>\n",
       "      <th>barcode</th>\n",
       "      <th>in_tissue</th>\n",
       "      <th>array_row</th>\n",
       "      <th>array_col</th>\n",
       "      <th>pxl_row_in_fullres</th>\n",
       "      <th>pxl_col_in_fullres</th>\n",
       "    </tr>\n",
       "  </thead>\n",
       "  <tbody>\n",
       "    <tr>\n",
       "      <th>0</th>\n",
       "      <td>ATACGAAACCCCGCGT-1</td>\n",
       "      <td>1</td>\n",
       "      <td>0</td>\n",
       "      <td>0</td>\n",
       "      <td>31602</td>\n",
       "      <td>24462</td>\n",
       "    </tr>\n",
       "    <tr>\n",
       "      <th>1</th>\n",
       "      <td>AAAGAGTAGATCGTAG-1</td>\n",
       "      <td>1</td>\n",
       "      <td>0</td>\n",
       "      <td>2</td>\n",
       "      <td>31601</td>\n",
       "      <td>24828</td>\n",
       "    </tr>\n",
       "    <tr>\n",
       "      <th>2</th>\n",
       "      <td>AACGTGACCCAAGTGT-1</td>\n",
       "      <td>1</td>\n",
       "      <td>0</td>\n",
       "      <td>4</td>\n",
       "      <td>31599</td>\n",
       "      <td>25193</td>\n",
       "    </tr>\n",
       "    <tr>\n",
       "      <th>3</th>\n",
       "      <td>GAATAATGATCAGGTG-1</td>\n",
       "      <td>1</td>\n",
       "      <td>0</td>\n",
       "      <td>6</td>\n",
       "      <td>31598</td>\n",
       "      <td>25558</td>\n",
       "    </tr>\n",
       "    <tr>\n",
       "      <th>4</th>\n",
       "      <td>GATTTGTCGGTTGTCC-1</td>\n",
       "      <td>1</td>\n",
       "      <td>0</td>\n",
       "      <td>8</td>\n",
       "      <td>31596</td>\n",
       "      <td>25924</td>\n",
       "    </tr>\n",
       "    <tr>\n",
       "      <th>...</th>\n",
       "      <td>...</td>\n",
       "      <td>...</td>\n",
       "      <td>...</td>\n",
       "      <td>...</td>\n",
       "      <td>...</td>\n",
       "      <td>...</td>\n",
       "    </tr>\n",
       "    <tr>\n",
       "      <th>4921</th>\n",
       "      <td>TGAGTATGATTTCGTG-1</td>\n",
       "      <td>1</td>\n",
       "      <td>76</td>\n",
       "      <td>114</td>\n",
       "      <td>7473</td>\n",
       "      <td>45183</td>\n",
       "    </tr>\n",
       "    <tr>\n",
       "      <th>4922</th>\n",
       "      <td>TCGTACCGTTAATAAT-1</td>\n",
       "      <td>1</td>\n",
       "      <td>76</td>\n",
       "      <td>116</td>\n",
       "      <td>7471</td>\n",
       "      <td>45548</td>\n",
       "    </tr>\n",
       "    <tr>\n",
       "      <th>4923</th>\n",
       "      <td>ATTAGTGGGGAGAAAT-1</td>\n",
       "      <td>1</td>\n",
       "      <td>76</td>\n",
       "      <td>118</td>\n",
       "      <td>7470</td>\n",
       "      <td>45914</td>\n",
       "    </tr>\n",
       "    <tr>\n",
       "      <th>4924</th>\n",
       "      <td>AGTGTAGTACTTAGAC-1</td>\n",
       "      <td>1</td>\n",
       "      <td>76</td>\n",
       "      <td>120</td>\n",
       "      <td>7468</td>\n",
       "      <td>46279</td>\n",
       "    </tr>\n",
       "    <tr>\n",
       "      <th>4927</th>\n",
       "      <td>CACGCGGGGTGGGAAC-1</td>\n",
       "      <td>1</td>\n",
       "      <td>76</td>\n",
       "      <td>126</td>\n",
       "      <td>7464</td>\n",
       "      <td>47375</td>\n",
       "    </tr>\n",
       "  </tbody>\n",
       "</table>\n",
       "<p>4559 rows × 6 columns</p>\n",
       "</div>"
      ],
      "text/plain": [
       "                 barcode  in_tissue  array_row  array_col  pxl_row_in_fullres  \\\n",
       "0     ATACGAAACCCCGCGT-1          1          0          0               31602   \n",
       "1     AAAGAGTAGATCGTAG-1          1          0          2               31601   \n",
       "2     AACGTGACCCAAGTGT-1          1          0          4               31599   \n",
       "3     GAATAATGATCAGGTG-1          1          0          6               31598   \n",
       "4     GATTTGTCGGTTGTCC-1          1          0          8               31596   \n",
       "...                  ...        ...        ...        ...                 ...   \n",
       "4921  TGAGTATGATTTCGTG-1          1         76        114                7473   \n",
       "4922  TCGTACCGTTAATAAT-1          1         76        116                7471   \n",
       "4923  ATTAGTGGGGAGAAAT-1          1         76        118                7470   \n",
       "4924  AGTGTAGTACTTAGAC-1          1         76        120                7468   \n",
       "4927  CACGCGGGGTGGGAAC-1          1         76        126                7464   \n",
       "\n",
       "      pxl_col_in_fullres  \n",
       "0                  24462  \n",
       "1                  24828  \n",
       "2                  25193  \n",
       "3                  25558  \n",
       "4                  25924  \n",
       "...                  ...  \n",
       "4921               45183  \n",
       "4922               45548  \n",
       "4923               45914  \n",
       "4924               46279  \n",
       "4927               47375  \n",
       "\n",
       "[4559 rows x 6 columns]"
      ]
     },
     "execution_count": 10,
     "metadata": {},
     "output_type": "execute_result"
    }
   ],
   "source": [
    "emulate_visium.locDF[emulate_visium.locDF[\"in_tissue\"]==1]"
   ]
  },
  {
   "cell_type": "code",
   "execution_count": 16,
   "id": "3c7ce96f-3cb8-4278-a3a6-451138a35c01",
   "metadata": {},
   "outputs": [],
   "source": [
    "emulate_visium.adata.var_names_make_unique()\n",
    "emulate_visium.select_HVG(n_top_genes=2000)"
   ]
  },
  {
   "cell_type": "code",
   "execution_count": 17,
   "id": "9fd1ce3f-4bc6-442e-aa14-d969d36bdfa8",
   "metadata": {},
   "outputs": [
    {
     "data": {
      "text/plain": [
       "AnnData object with n_obs × n_vars = 4559 × 2000\n",
       "    var: 'gene_ids', 'feature_types', 'genome', 'n_counts', 'highly_variable', 'highly_variable_rank', 'means', 'variances', 'variances_norm'\n",
       "    uns: 'hvg'"
      ]
     },
     "execution_count": 17,
     "metadata": {},
     "output_type": "execute_result"
    }
   ],
   "source": [
    "emulate_visium.adata"
   ]
  },
  {
   "cell_type": "code",
   "execution_count": 20,
   "id": "be0b23bf-0037-4c64-b825-9a54a6ca1df4",
   "metadata": {},
   "outputs": [
    {
     "name": "stdout",
     "output_type": "stream",
     "text": [
      "Start convert\n",
      "Finish convert\n"
     ]
    }
   ],
   "source": [
    "save_path = Path('test/HD2Visium')\n",
    "emulate_visium.save(save_path)"
   ]
  },
  {
   "cell_type": "code",
   "execution_count": 22,
   "id": "839bc60d-170a-4d91-a242-7b8602f2231c",
   "metadata": {},
   "outputs": [
    {
     "data": {
      "text/plain": [
       "(40732, 65199, 3)"
      ]
     },
     "execution_count": 22,
     "metadata": {},
     "output_type": "execute_result"
    }
   ],
   "source": [
    "emulate_visium.image.shape"
   ]
  },
  {
   "cell_type": "code",
   "execution_count": 4,
   "id": "119d2b9e-892f-427b-9650-77356ad7074c",
   "metadata": {},
   "outputs": [],
   "source": [
    "import cv2\n",
    "import imageio.v2 as ii\n",
    "import matplotlib.pyplot as plt\n",
    "from PIL import Image\n",
    "Image.MAX_IMAGE_PIXELS = None"
   ]
  },
  {
   "cell_type": "code",
   "execution_count": 32,
   "id": "857eb342-67a5-49fa-99dc-a2c44586a836",
   "metadata": {},
   "outputs": [],
   "source": [
    "shape = (2000,int(40732/65199*2000))\n",
    "img_resized = cv2.resize(emulate_visium.image, shape, interpolation=cv2.INTER_AREA)"
   ]
  },
  {
   "cell_type": "code",
   "execution_count": null,
   "id": "06f581c7-bc60-48b0-9445-d711036a67bd",
   "metadata": {
    "scrolled": true
   },
   "outputs": [],
   "source": [
    "plt.imshow(img_resized)"
   ]
  },
  {
   "cell_type": "code",
   "execution_count": 60,
   "id": "9c81ad1d-5e4c-4dc9-8980-e5eaf8e8dafd",
   "metadata": {},
   "outputs": [],
   "source": [
    "def auto_mask(img : np.ndarray,\n",
    "              CANNY_THRESH_1 = 100, CANNY_THRESH_2 = 200, apertureSize=5, L2gradient = True) -> np.ndarray:\n",
    "    if len(img.shape)==3:\n",
    "        gray = cv2.cvtColor(img,cv2.COLOR_BGR2GRAY)\n",
    "    elif len(img.shape)==2:\n",
    "        gray=(img*((1, 255)[np.max(img)<=1])).astype(np.uint8)\n",
    "    else:\n",
    "        print(\"Image format error!\")\n",
    "    edges = cv2.Canny(gray, CANNY_THRESH_1, CANNY_THRESH_2,apertureSize = apertureSize, L2gradient = L2gradient)\n",
    "    edges = cv2.dilate(edges, None)\n",
    "    edges = cv2.erode(edges, None)\n",
    "    cnt_info = []\n",
    "    cnts, _ = cv2.findContours(edges, cv2.RETR_LIST, cv2.CHAIN_APPROX_NONE)\n",
    "    for c in cnts:\n",
    "        cnt_info.append((c,cv2.isContourConvex(c),cv2.contourArea(c),))\n",
    "    cnt_info.sort(key=lambda c: c[2], reverse=True)\n",
    "    cnt=cnt_info[0][0]\n",
    "    mask = np.zeros(img.shape[:2], dtype=np.uint8)\n",
    "    cv2.drawContours(mask, [cnt], contourIdx=-1, color=255, thickness=-1)\n",
    "    return mask"
   ]
  },
  {
   "cell_type": "code",
   "execution_count": 61,
   "id": "578661c3-a084-459d-82fd-30f866449864",
   "metadata": {},
   "outputs": [],
   "source": [
    "mask = auto_mask(emulate_visium.image)\n",
    "ii.imsave('test.png', mask)"
   ]
  },
  {
   "cell_type": "code",
   "execution_count": 5,
   "id": "b1d2956e-31f8-4795-84d1-ce8dbdd519b6",
   "metadata": {},
   "outputs": [],
   "source": [
    "mask = ii.imread('test/HD2Visium/mask.png')"
   ]
  },
  {
   "cell_type": "code",
   "execution_count": 6,
   "id": "9bc38e60-c2c3-49a1-a83a-5646eb201af9",
   "metadata": {},
   "outputs": [
    {
     "data": {
      "text/plain": [
       "(40732, 65199)"
      ]
     },
     "execution_count": 6,
     "metadata": {},
     "output_type": "execute_result"
    }
   ],
   "source": [
    "mask.shape"
   ]
  },
  {
   "cell_type": "markdown",
   "id": "35bf43f6-e55d-4239-95c9-cbb755a70077",
   "metadata": {},
   "source": []
  }
 ],
 "metadata": {
  "kernelspec": {
   "display_name": "Python [conda env:DataReader]",
   "language": "python",
   "name": "conda-env-DataReader-py"
  },
  "language_info": {
   "codemirror_mode": {
    "name": "ipython",
    "version": 3
   },
   "file_extension": ".py",
   "mimetype": "text/x-python",
   "name": "python",
   "nbconvert_exporter": "python",
   "pygments_lexer": "ipython3",
   "version": "3.10.13"
  }
 },
 "nbformat": 4,
 "nbformat_minor": 5
}
