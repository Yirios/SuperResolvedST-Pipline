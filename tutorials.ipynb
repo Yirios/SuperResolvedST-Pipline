{
 "cells": [
  {
   "cell_type": "markdown",
   "id": "2cc4d02f-4a0d-4afe-9054-1c282e2485e8",
   "metadata": {},
   "source": []
  },
  {
   "cell_type": "code",
   "execution_count": 1,
   "id": "71b3352f-d7ec-451f-8ded-b850f3945895",
   "metadata": {},
   "outputs": [],
   "source": [
    "from datasets import *"
   ]
  },
  {
   "cell_type": "markdown",
   "id": "8f17a51b-7aea-4c22-a470-de769e4b140a",
   "metadata": {},
   "source": [
    "## 从 VisiumHD 生成 Visium\n",
    "读取文件"
   ]
  },
  {
   "cell_type": "code",
   "execution_count": 2,
   "id": "4a396427-4b3a-43f0-bcc3-483fcc5b5919",
   "metadata": {},
   "outputs": [
    {
     "name": "stdout",
     "output_type": "stream",
     "text": [
      "Start load\n",
      "Finish load in 26.0809 s\n"
     ]
    }
   ],
   "source": [
    "path = '/data/datasets/Visium_HD_Human_Tonsil_Fresh_Frozen/binned_outputs/square_002um'\n",
    "# path = '/mnt/TenTA-f702/user/zhangyichi/Data/Visium_HD_Human_Tonsil_Fresh_Frozen/binned_outputs/square_002um'\n",
    "imagefile = '/data/datasets/Visium_HD_Human_Tonsil_Fresh_Frozen/Visium_HD_Human_Tonsil_Fresh_Frozen_tissue_image.tif'\n",
    "# imagefile = '/mnt/TenTA-f702/user/zhangyichi/Data/Visium_HD_Human_Tonsil_Fresh_Frozen/Visium_HD_Human_Tonsil_Fresh_Frozen_tissue_image.tif'\n",
    "rawdata = VisiumHDData()\n",
    "rawdata.load(path=path, source_image_path=imagefile)"
   ]
  },
  {
   "cell_type": "code",
   "execution_count": 3,
   "id": "105e0ebc-ec9f-4d6c-8b91-2e96c71550e1",
   "metadata": {},
   "outputs": [],
   "source": [
    "visium_profile = VisiumProfile(slide_serial=4)"
   ]
  },
  {
   "cell_type": "code",
   "execution_count": 4,
   "id": "67801feb-ba9f-4488-a63e-d7a65ae2ac11",
   "metadata": {
    "scrolled": true
   },
   "outputs": [
    {
     "name": "stderr",
     "output_type": "stream",
     "text": [
      "/home/yiriso/Research/Super-resolvedST/SuperResolvedST-Pipline/profiles.py:302: UserWarning: Spot (0, 0) cover rate: 85.52%, that 85 bins outside the grid.\n",
      "  warnings.warn(f\"Spot {profile.id2array(id)} cover rate: {covered_rate:0.2f}%, that {uncovered[id]:d} bins outside the grid.\")\n",
      "/home/yiriso/Research/Super-resolvedST/SuperResolvedST-Pipline/profiles.py:302: UserWarning: Spot (0, 2) cover rate: 85.52%, that 85 bins outside the grid.\n",
      "  warnings.warn(f\"Spot {profile.id2array(id)} cover rate: {covered_rate:0.2f}%, that {uncovered[id]:d} bins outside the grid.\")\n",
      "/home/yiriso/Research/Super-resolvedST/SuperResolvedST-Pipline/profiles.py:302: UserWarning: Spot (0, 4) cover rate: 85.52%, that 85 bins outside the grid.\n",
      "  warnings.warn(f\"Spot {profile.id2array(id)} cover rate: {covered_rate:0.2f}%, that {uncovered[id]:d} bins outside the grid.\")\n",
      "/home/yiriso/Research/Super-resolvedST/SuperResolvedST-Pipline/profiles.py:302: UserWarning: Spot (0, 6) cover rate: 85.52%, that 85 bins outside the grid.\n",
      "  warnings.warn(f\"Spot {profile.id2array(id)} cover rate: {covered_rate:0.2f}%, that {uncovered[id]:d} bins outside the grid.\")\n",
      "/home/yiriso/Research/Super-resolvedST/SuperResolvedST-Pipline/profiles.py:302: UserWarning: Spot (0, 8) cover rate: 85.52%, that 85 bins outside the grid.\n",
      "  warnings.warn(f\"Spot {profile.id2array(id)} cover rate: {covered_rate:0.2f}%, that {uncovered[id]:d} bins outside the grid.\")\n",
      "/home/yiriso/Research/Super-resolvedST/SuperResolvedST-Pipline/profiles.py:302: UserWarning: Spot (0, 10) cover rate: 85.52%, that 85 bins outside the grid.\n",
      "  warnings.warn(f\"Spot {profile.id2array(id)} cover rate: {covered_rate:0.2f}%, that {uncovered[id]:d} bins outside the grid.\")\n",
      "/home/yiriso/Research/Super-resolvedST/SuperResolvedST-Pipline/profiles.py:302: UserWarning: Spot (0, 12) cover rate: 85.52%, that 85 bins outside the grid.\n",
      "  warnings.warn(f\"Spot {profile.id2array(id)} cover rate: {covered_rate:0.2f}%, that {uncovered[id]:d} bins outside the grid.\")\n",
      "/home/yiriso/Research/Super-resolvedST/SuperResolvedST-Pipline/profiles.py:302: UserWarning: Spot (0, 14) cover rate: 85.52%, that 85 bins outside the grid.\n",
      "  warnings.warn(f\"Spot {profile.id2array(id)} cover rate: {covered_rate:0.2f}%, that {uncovered[id]:d} bins outside the grid.\")\n",
      "/home/yiriso/Research/Super-resolvedST/SuperResolvedST-Pipline/profiles.py:302: UserWarning: Spot (0, 16) cover rate: 85.52%, that 85 bins outside the grid.\n",
      "  warnings.warn(f\"Spot {profile.id2array(id)} cover rate: {covered_rate:0.2f}%, that {uncovered[id]:d} bins outside the grid.\")\n",
      "/home/yiriso/Research/Super-resolvedST/SuperResolvedST-Pipline/profiles.py:302: UserWarning: Spot (0, 18) cover rate: 85.52%, that 85 bins outside the grid.\n",
      "  warnings.warn(f\"Spot {profile.id2array(id)} cover rate: {covered_rate:0.2f}%, that {uncovered[id]:d} bins outside the grid.\")\n",
      "/home/yiriso/Research/Super-resolvedST/SuperResolvedST-Pipline/profiles.py:302: UserWarning: Spot (0, 20) cover rate: 85.52%, that 85 bins outside the grid.\n",
      "  warnings.warn(f\"Spot {profile.id2array(id)} cover rate: {covered_rate:0.2f}%, that {uncovered[id]:d} bins outside the grid.\")\n",
      "/home/yiriso/Research/Super-resolvedST/SuperResolvedST-Pipline/profiles.py:302: UserWarning: Spot (0, 22) cover rate: 85.52%, that 85 bins outside the grid.\n",
      "  warnings.warn(f\"Spot {profile.id2array(id)} cover rate: {covered_rate:0.2f}%, that {uncovered[id]:d} bins outside the grid.\")\n",
      "/home/yiriso/Research/Super-resolvedST/SuperResolvedST-Pipline/profiles.py:302: UserWarning: Spot (0, 24) cover rate: 85.52%, that 85 bins outside the grid.\n",
      "  warnings.warn(f\"Spot {profile.id2array(id)} cover rate: {covered_rate:0.2f}%, that {uncovered[id]:d} bins outside the grid.\")\n",
      "/home/yiriso/Research/Super-resolvedST/SuperResolvedST-Pipline/profiles.py:302: UserWarning: Spot (0, 26) cover rate: 85.52%, that 85 bins outside the grid.\n",
      "  warnings.warn(f\"Spot {profile.id2array(id)} cover rate: {covered_rate:0.2f}%, that {uncovered[id]:d} bins outside the grid.\")\n",
      "/home/yiriso/Research/Super-resolvedST/SuperResolvedST-Pipline/profiles.py:302: UserWarning: Spot (0, 28) cover rate: 85.52%, that 85 bins outside the grid.\n",
      "  warnings.warn(f\"Spot {profile.id2array(id)} cover rate: {covered_rate:0.2f}%, that {uncovered[id]:d} bins outside the grid.\")\n",
      "/home/yiriso/Research/Super-resolvedST/SuperResolvedST-Pipline/profiles.py:302: UserWarning: Spot (0, 30) cover rate: 85.52%, that 85 bins outside the grid.\n",
      "  warnings.warn(f\"Spot {profile.id2array(id)} cover rate: {covered_rate:0.2f}%, that {uncovered[id]:d} bins outside the grid.\")\n",
      "/home/yiriso/Research/Super-resolvedST/SuperResolvedST-Pipline/profiles.py:302: UserWarning: Spot (0, 32) cover rate: 85.52%, that 85 bins outside the grid.\n",
      "  warnings.warn(f\"Spot {profile.id2array(id)} cover rate: {covered_rate:0.2f}%, that {uncovered[id]:d} bins outside the grid.\")\n",
      "/home/yiriso/Research/Super-resolvedST/SuperResolvedST-Pipline/profiles.py:302: UserWarning: Spot (0, 34) cover rate: 85.52%, that 85 bins outside the grid.\n",
      "  warnings.warn(f\"Spot {profile.id2array(id)} cover rate: {covered_rate:0.2f}%, that {uncovered[id]:d} bins outside the grid.\")\n",
      "/home/yiriso/Research/Super-resolvedST/SuperResolvedST-Pipline/profiles.py:302: UserWarning: Spot (0, 36) cover rate: 85.52%, that 85 bins outside the grid.\n",
      "  warnings.warn(f\"Spot {profile.id2array(id)} cover rate: {covered_rate:0.2f}%, that {uncovered[id]:d} bins outside the grid.\")\n",
      "/home/yiriso/Research/Super-resolvedST/SuperResolvedST-Pipline/profiles.py:302: UserWarning: Spot (0, 38) cover rate: 85.52%, that 85 bins outside the grid.\n",
      "  warnings.warn(f\"Spot {profile.id2array(id)} cover rate: {covered_rate:0.2f}%, that {uncovered[id]:d} bins outside the grid.\")\n",
      "/home/yiriso/Research/Super-resolvedST/SuperResolvedST-Pipline/profiles.py:302: UserWarning: Spot (0, 40) cover rate: 85.52%, that 85 bins outside the grid.\n",
      "  warnings.warn(f\"Spot {profile.id2array(id)} cover rate: {covered_rate:0.2f}%, that {uncovered[id]:d} bins outside the grid.\")\n",
      "/home/yiriso/Research/Super-resolvedST/SuperResolvedST-Pipline/profiles.py:302: UserWarning: Spot (0, 42) cover rate: 85.52%, that 85 bins outside the grid.\n",
      "  warnings.warn(f\"Spot {profile.id2array(id)} cover rate: {covered_rate:0.2f}%, that {uncovered[id]:d} bins outside the grid.\")\n",
      "/home/yiriso/Research/Super-resolvedST/SuperResolvedST-Pipline/profiles.py:302: UserWarning: Spot (0, 44) cover rate: 85.52%, that 85 bins outside the grid.\n",
      "  warnings.warn(f\"Spot {profile.id2array(id)} cover rate: {covered_rate:0.2f}%, that {uncovered[id]:d} bins outside the grid.\")\n",
      "/home/yiriso/Research/Super-resolvedST/SuperResolvedST-Pipline/profiles.py:302: UserWarning: Spot (0, 46) cover rate: 85.52%, that 85 bins outside the grid.\n",
      "  warnings.warn(f\"Spot {profile.id2array(id)} cover rate: {covered_rate:0.2f}%, that {uncovered[id]:d} bins outside the grid.\")\n",
      "/home/yiriso/Research/Super-resolvedST/SuperResolvedST-Pipline/profiles.py:302: UserWarning: Spot (0, 48) cover rate: 85.52%, that 85 bins outside the grid.\n",
      "  warnings.warn(f\"Spot {profile.id2array(id)} cover rate: {covered_rate:0.2f}%, that {uncovered[id]:d} bins outside the grid.\")\n",
      "/home/yiriso/Research/Super-resolvedST/SuperResolvedST-Pipline/profiles.py:302: UserWarning: Spot (0, 50) cover rate: 85.52%, that 85 bins outside the grid.\n",
      "  warnings.warn(f\"Spot {profile.id2array(id)} cover rate: {covered_rate:0.2f}%, that {uncovered[id]:d} bins outside the grid.\")\n",
      "/home/yiriso/Research/Super-resolvedST/SuperResolvedST-Pipline/profiles.py:302: UserWarning: Spot (0, 52) cover rate: 85.52%, that 85 bins outside the grid.\n",
      "  warnings.warn(f\"Spot {profile.id2array(id)} cover rate: {covered_rate:0.2f}%, that {uncovered[id]:d} bins outside the grid.\")\n",
      "/home/yiriso/Research/Super-resolvedST/SuperResolvedST-Pipline/profiles.py:302: UserWarning: Spot (0, 54) cover rate: 85.52%, that 85 bins outside the grid.\n",
      "  warnings.warn(f\"Spot {profile.id2array(id)} cover rate: {covered_rate:0.2f}%, that {uncovered[id]:d} bins outside the grid.\")\n",
      "/home/yiriso/Research/Super-resolvedST/SuperResolvedST-Pipline/profiles.py:302: UserWarning: Spot (0, 56) cover rate: 85.52%, that 85 bins outside the grid.\n",
      "  warnings.warn(f\"Spot {profile.id2array(id)} cover rate: {covered_rate:0.2f}%, that {uncovered[id]:d} bins outside the grid.\")\n",
      "/home/yiriso/Research/Super-resolvedST/SuperResolvedST-Pipline/profiles.py:302: UserWarning: Spot (0, 58) cover rate: 85.52%, that 85 bins outside the grid.\n",
      "  warnings.warn(f\"Spot {profile.id2array(id)} cover rate: {covered_rate:0.2f}%, that {uncovered[id]:d} bins outside the grid.\")\n",
      "/home/yiriso/Research/Super-resolvedST/SuperResolvedST-Pipline/profiles.py:302: UserWarning: Spot (0, 60) cover rate: 85.52%, that 85 bins outside the grid.\n",
      "  warnings.warn(f\"Spot {profile.id2array(id)} cover rate: {covered_rate:0.2f}%, that {uncovered[id]:d} bins outside the grid.\")\n",
      "/home/yiriso/Research/Super-resolvedST/SuperResolvedST-Pipline/profiles.py:302: UserWarning: Spot (0, 62) cover rate: 85.52%, that 85 bins outside the grid.\n",
      "  warnings.warn(f\"Spot {profile.id2array(id)} cover rate: {covered_rate:0.2f}%, that {uncovered[id]:d} bins outside the grid.\")\n",
      "/home/yiriso/Research/Super-resolvedST/SuperResolvedST-Pipline/profiles.py:302: UserWarning: Spot (0, 64) cover rate: 85.52%, that 85 bins outside the grid.\n",
      "  warnings.warn(f\"Spot {profile.id2array(id)} cover rate: {covered_rate:0.2f}%, that {uncovered[id]:d} bins outside the grid.\")\n",
      "/home/yiriso/Research/Super-resolvedST/SuperResolvedST-Pipline/profiles.py:302: UserWarning: Spot (0, 66) cover rate: 85.52%, that 85 bins outside the grid.\n",
      "  warnings.warn(f\"Spot {profile.id2array(id)} cover rate: {covered_rate:0.2f}%, that {uncovered[id]:d} bins outside the grid.\")\n",
      "/home/yiriso/Research/Super-resolvedST/SuperResolvedST-Pipline/profiles.py:302: UserWarning: Spot (0, 68) cover rate: 85.52%, that 85 bins outside the grid.\n",
      "  warnings.warn(f\"Spot {profile.id2array(id)} cover rate: {covered_rate:0.2f}%, that {uncovered[id]:d} bins outside the grid.\")\n",
      "/home/yiriso/Research/Super-resolvedST/SuperResolvedST-Pipline/profiles.py:302: UserWarning: Spot (0, 70) cover rate: 85.52%, that 85 bins outside the grid.\n",
      "  warnings.warn(f\"Spot {profile.id2array(id)} cover rate: {covered_rate:0.2f}%, that {uncovered[id]:d} bins outside the grid.\")\n",
      "/home/yiriso/Research/Super-resolvedST/SuperResolvedST-Pipline/profiles.py:302: UserWarning: Spot (0, 72) cover rate: 85.52%, that 85 bins outside the grid.\n",
      "  warnings.warn(f\"Spot {profile.id2array(id)} cover rate: {covered_rate:0.2f}%, that {uncovered[id]:d} bins outside the grid.\")\n",
      "/home/yiriso/Research/Super-resolvedST/SuperResolvedST-Pipline/profiles.py:302: UserWarning: Spot (0, 74) cover rate: 85.52%, that 85 bins outside the grid.\n",
      "  warnings.warn(f\"Spot {profile.id2array(id)} cover rate: {covered_rate:0.2f}%, that {uncovered[id]:d} bins outside the grid.\")\n",
      "/home/yiriso/Research/Super-resolvedST/SuperResolvedST-Pipline/profiles.py:302: UserWarning: Spot (0, 76) cover rate: 85.52%, that 85 bins outside the grid.\n",
      "  warnings.warn(f\"Spot {profile.id2array(id)} cover rate: {covered_rate:0.2f}%, that {uncovered[id]:d} bins outside the grid.\")\n",
      "/home/yiriso/Research/Super-resolvedST/SuperResolvedST-Pipline/profiles.py:302: UserWarning: Spot (0, 78) cover rate: 85.52%, that 85 bins outside the grid.\n",
      "  warnings.warn(f\"Spot {profile.id2array(id)} cover rate: {covered_rate:0.2f}%, that {uncovered[id]:d} bins outside the grid.\")\n",
      "/home/yiriso/Research/Super-resolvedST/SuperResolvedST-Pipline/profiles.py:302: UserWarning: Spot (0, 80) cover rate: 85.52%, that 85 bins outside the grid.\n",
      "  warnings.warn(f\"Spot {profile.id2array(id)} cover rate: {covered_rate:0.2f}%, that {uncovered[id]:d} bins outside the grid.\")\n",
      "/home/yiriso/Research/Super-resolvedST/SuperResolvedST-Pipline/profiles.py:302: UserWarning: Spot (0, 82) cover rate: 85.52%, that 85 bins outside the grid.\n",
      "  warnings.warn(f\"Spot {profile.id2array(id)} cover rate: {covered_rate:0.2f}%, that {uncovered[id]:d} bins outside the grid.\")\n",
      "/home/yiriso/Research/Super-resolvedST/SuperResolvedST-Pipline/profiles.py:302: UserWarning: Spot (0, 84) cover rate: 85.52%, that 85 bins outside the grid.\n",
      "  warnings.warn(f\"Spot {profile.id2array(id)} cover rate: {covered_rate:0.2f}%, that {uncovered[id]:d} bins outside the grid.\")\n",
      "/home/yiriso/Research/Super-resolvedST/SuperResolvedST-Pipline/profiles.py:302: UserWarning: Spot (0, 86) cover rate: 85.52%, that 85 bins outside the grid.\n",
      "  warnings.warn(f\"Spot {profile.id2array(id)} cover rate: {covered_rate:0.2f}%, that {uncovered[id]:d} bins outside the grid.\")\n",
      "/home/yiriso/Research/Super-resolvedST/SuperResolvedST-Pipline/profiles.py:302: UserWarning: Spot (0, 88) cover rate: 85.52%, that 85 bins outside the grid.\n",
      "  warnings.warn(f\"Spot {profile.id2array(id)} cover rate: {covered_rate:0.2f}%, that {uncovered[id]:d} bins outside the grid.\")\n",
      "/home/yiriso/Research/Super-resolvedST/SuperResolvedST-Pipline/profiles.py:302: UserWarning: Spot (0, 90) cover rate: 85.52%, that 85 bins outside the grid.\n",
      "  warnings.warn(f\"Spot {profile.id2array(id)} cover rate: {covered_rate:0.2f}%, that {uncovered[id]:d} bins outside the grid.\")\n",
      "/home/yiriso/Research/Super-resolvedST/SuperResolvedST-Pipline/profiles.py:302: UserWarning: Spot (0, 92) cover rate: 85.52%, that 85 bins outside the grid.\n",
      "  warnings.warn(f\"Spot {profile.id2array(id)} cover rate: {covered_rate:0.2f}%, that {uncovered[id]:d} bins outside the grid.\")\n",
      "/home/yiriso/Research/Super-resolvedST/SuperResolvedST-Pipline/profiles.py:302: UserWarning: Spot (0, 94) cover rate: 85.52%, that 85 bins outside the grid.\n",
      "  warnings.warn(f\"Spot {profile.id2array(id)} cover rate: {covered_rate:0.2f}%, that {uncovered[id]:d} bins outside the grid.\")\n",
      "/home/yiriso/Research/Super-resolvedST/SuperResolvedST-Pipline/profiles.py:302: UserWarning: Spot (0, 96) cover rate: 85.52%, that 85 bins outside the grid.\n",
      "  warnings.warn(f\"Spot {profile.id2array(id)} cover rate: {covered_rate:0.2f}%, that {uncovered[id]:d} bins outside the grid.\")\n",
      "/home/yiriso/Research/Super-resolvedST/SuperResolvedST-Pipline/profiles.py:302: UserWarning: Spot (0, 98) cover rate: 85.52%, that 85 bins outside the grid.\n",
      "  warnings.warn(f\"Spot {profile.id2array(id)} cover rate: {covered_rate:0.2f}%, that {uncovered[id]:d} bins outside the grid.\")\n",
      "/home/yiriso/Research/Super-resolvedST/SuperResolvedST-Pipline/profiles.py:302: UserWarning: Spot (0, 100) cover rate: 85.52%, that 85 bins outside the grid.\n",
      "  warnings.warn(f\"Spot {profile.id2array(id)} cover rate: {covered_rate:0.2f}%, that {uncovered[id]:d} bins outside the grid.\")\n",
      "/home/yiriso/Research/Super-resolvedST/SuperResolvedST-Pipline/profiles.py:302: UserWarning: Spot (0, 102) cover rate: 85.52%, that 85 bins outside the grid.\n",
      "  warnings.warn(f\"Spot {profile.id2array(id)} cover rate: {covered_rate:0.2f}%, that {uncovered[id]:d} bins outside the grid.\")\n",
      "/home/yiriso/Research/Super-resolvedST/SuperResolvedST-Pipline/profiles.py:302: UserWarning: Spot (0, 104) cover rate: 85.52%, that 85 bins outside the grid.\n",
      "  warnings.warn(f\"Spot {profile.id2array(id)} cover rate: {covered_rate:0.2f}%, that {uncovered[id]:d} bins outside the grid.\")\n",
      "/home/yiriso/Research/Super-resolvedST/SuperResolvedST-Pipline/profiles.py:302: UserWarning: Spot (0, 106) cover rate: 85.52%, that 85 bins outside the grid.\n",
      "  warnings.warn(f\"Spot {profile.id2array(id)} cover rate: {covered_rate:0.2f}%, that {uncovered[id]:d} bins outside the grid.\")\n",
      "/home/yiriso/Research/Super-resolvedST/SuperResolvedST-Pipline/profiles.py:302: UserWarning: Spot (0, 108) cover rate: 85.52%, that 85 bins outside the grid.\n",
      "  warnings.warn(f\"Spot {profile.id2array(id)} cover rate: {covered_rate:0.2f}%, that {uncovered[id]:d} bins outside the grid.\")\n",
      "/home/yiriso/Research/Super-resolvedST/SuperResolvedST-Pipline/profiles.py:302: UserWarning: Spot (0, 110) cover rate: 85.52%, that 85 bins outside the grid.\n",
      "  warnings.warn(f\"Spot {profile.id2array(id)} cover rate: {covered_rate:0.2f}%, that {uncovered[id]:d} bins outside the grid.\")\n",
      "/home/yiriso/Research/Super-resolvedST/SuperResolvedST-Pipline/profiles.py:302: UserWarning: Spot (0, 112) cover rate: 85.52%, that 85 bins outside the grid.\n",
      "  warnings.warn(f\"Spot {profile.id2array(id)} cover rate: {covered_rate:0.2f}%, that {uncovered[id]:d} bins outside the grid.\")\n",
      "/home/yiriso/Research/Super-resolvedST/SuperResolvedST-Pipline/profiles.py:302: UserWarning: Spot (0, 114) cover rate: 85.52%, that 85 bins outside the grid.\n",
      "  warnings.warn(f\"Spot {profile.id2array(id)} cover rate: {covered_rate:0.2f}%, that {uncovered[id]:d} bins outside the grid.\")\n",
      "/home/yiriso/Research/Super-resolvedST/SuperResolvedST-Pipline/profiles.py:302: UserWarning: Spot (0, 116) cover rate: 85.52%, that 85 bins outside the grid.\n",
      "  warnings.warn(f\"Spot {profile.id2array(id)} cover rate: {covered_rate:0.2f}%, that {uncovered[id]:d} bins outside the grid.\")\n",
      "/home/yiriso/Research/Super-resolvedST/SuperResolvedST-Pipline/profiles.py:302: UserWarning: Spot (0, 118) cover rate: 85.52%, that 85 bins outside the grid.\n",
      "  warnings.warn(f\"Spot {profile.id2array(id)} cover rate: {covered_rate:0.2f}%, that {uncovered[id]:d} bins outside the grid.\")\n",
      "/home/yiriso/Research/Super-resolvedST/SuperResolvedST-Pipline/profiles.py:302: UserWarning: Spot (0, 120) cover rate: 85.52%, that 85 bins outside the grid.\n",
      "  warnings.warn(f\"Spot {profile.id2array(id)} cover rate: {covered_rate:0.2f}%, that {uncovered[id]:d} bins outside the grid.\")\n",
      "/home/yiriso/Research/Super-resolvedST/SuperResolvedST-Pipline/profiles.py:302: UserWarning: Spot (0, 122) cover rate: 85.52%, that 85 bins outside the grid.\n",
      "  warnings.warn(f\"Spot {profile.id2array(id)} cover rate: {covered_rate:0.2f}%, that {uncovered[id]:d} bins outside the grid.\")\n",
      "/home/yiriso/Research/Super-resolvedST/SuperResolvedST-Pipline/profiles.py:302: UserWarning: Spot (0, 124) cover rate: 85.52%, that 85 bins outside the grid.\n",
      "  warnings.warn(f\"Spot {profile.id2array(id)} cover rate: {covered_rate:0.2f}%, that {uncovered[id]:d} bins outside the grid.\")\n",
      "/home/yiriso/Research/Super-resolvedST/SuperResolvedST-Pipline/profiles.py:302: UserWarning: Spot (0, 126) cover rate: 85.52%, that 85 bins outside the grid.\n",
      "  warnings.warn(f\"Spot {profile.id2array(id)} cover rate: {covered_rate:0.2f}%, that {uncovered[id]:d} bins outside the grid.\")\n",
      "/home/yiriso/Research/Super-resolvedST/SuperResolvedST-Pipline/profiles.py:302: UserWarning: Spot (77, 1) cover rate: 84.51%, that 92 bins outside the grid.\n",
      "  warnings.warn(f\"Spot {profile.id2array(id)} cover rate: {covered_rate:0.2f}%, that {uncovered[id]:d} bins outside the grid.\")\n",
      "/home/yiriso/Research/Super-resolvedST/SuperResolvedST-Pipline/profiles.py:302: UserWarning: Spot (77, 3) cover rate: 84.51%, that 92 bins outside the grid.\n",
      "  warnings.warn(f\"Spot {profile.id2array(id)} cover rate: {covered_rate:0.2f}%, that {uncovered[id]:d} bins outside the grid.\")\n",
      "/home/yiriso/Research/Super-resolvedST/SuperResolvedST-Pipline/profiles.py:302: UserWarning: Spot (77, 5) cover rate: 84.51%, that 92 bins outside the grid.\n",
      "  warnings.warn(f\"Spot {profile.id2array(id)} cover rate: {covered_rate:0.2f}%, that {uncovered[id]:d} bins outside the grid.\")\n",
      "/home/yiriso/Research/Super-resolvedST/SuperResolvedST-Pipline/profiles.py:302: UserWarning: Spot (77, 7) cover rate: 84.51%, that 92 bins outside the grid.\n",
      "  warnings.warn(f\"Spot {profile.id2array(id)} cover rate: {covered_rate:0.2f}%, that {uncovered[id]:d} bins outside the grid.\")\n",
      "/home/yiriso/Research/Super-resolvedST/SuperResolvedST-Pipline/profiles.py:302: UserWarning: Spot (77, 9) cover rate: 84.51%, that 92 bins outside the grid.\n",
      "  warnings.warn(f\"Spot {profile.id2array(id)} cover rate: {covered_rate:0.2f}%, that {uncovered[id]:d} bins outside the grid.\")\n",
      "/home/yiriso/Research/Super-resolvedST/SuperResolvedST-Pipline/profiles.py:302: UserWarning: Spot (77, 11) cover rate: 84.51%, that 92 bins outside the grid.\n",
      "  warnings.warn(f\"Spot {profile.id2array(id)} cover rate: {covered_rate:0.2f}%, that {uncovered[id]:d} bins outside the grid.\")\n",
      "/home/yiriso/Research/Super-resolvedST/SuperResolvedST-Pipline/profiles.py:302: UserWarning: Spot (77, 13) cover rate: 84.51%, that 92 bins outside the grid.\n",
      "  warnings.warn(f\"Spot {profile.id2array(id)} cover rate: {covered_rate:0.2f}%, that {uncovered[id]:d} bins outside the grid.\")\n",
      "/home/yiriso/Research/Super-resolvedST/SuperResolvedST-Pipline/profiles.py:302: UserWarning: Spot (77, 15) cover rate: 84.51%, that 92 bins outside the grid.\n",
      "  warnings.warn(f\"Spot {profile.id2array(id)} cover rate: {covered_rate:0.2f}%, that {uncovered[id]:d} bins outside the grid.\")\n",
      "/home/yiriso/Research/Super-resolvedST/SuperResolvedST-Pipline/profiles.py:302: UserWarning: Spot (77, 17) cover rate: 84.51%, that 92 bins outside the grid.\n",
      "  warnings.warn(f\"Spot {profile.id2array(id)} cover rate: {covered_rate:0.2f}%, that {uncovered[id]:d} bins outside the grid.\")\n",
      "/home/yiriso/Research/Super-resolvedST/SuperResolvedST-Pipline/profiles.py:302: UserWarning: Spot (77, 19) cover rate: 84.51%, that 92 bins outside the grid.\n",
      "  warnings.warn(f\"Spot {profile.id2array(id)} cover rate: {covered_rate:0.2f}%, that {uncovered[id]:d} bins outside the grid.\")\n",
      "/home/yiriso/Research/Super-resolvedST/SuperResolvedST-Pipline/profiles.py:302: UserWarning: Spot (77, 21) cover rate: 84.51%, that 92 bins outside the grid.\n",
      "  warnings.warn(f\"Spot {profile.id2array(id)} cover rate: {covered_rate:0.2f}%, that {uncovered[id]:d} bins outside the grid.\")\n",
      "/home/yiriso/Research/Super-resolvedST/SuperResolvedST-Pipline/profiles.py:302: UserWarning: Spot (77, 23) cover rate: 84.51%, that 92 bins outside the grid.\n",
      "  warnings.warn(f\"Spot {profile.id2array(id)} cover rate: {covered_rate:0.2f}%, that {uncovered[id]:d} bins outside the grid.\")\n",
      "/home/yiriso/Research/Super-resolvedST/SuperResolvedST-Pipline/profiles.py:302: UserWarning: Spot (77, 25) cover rate: 84.51%, that 92 bins outside the grid.\n",
      "  warnings.warn(f\"Spot {profile.id2array(id)} cover rate: {covered_rate:0.2f}%, that {uncovered[id]:d} bins outside the grid.\")\n",
      "/home/yiriso/Research/Super-resolvedST/SuperResolvedST-Pipline/profiles.py:302: UserWarning: Spot (77, 27) cover rate: 84.51%, that 92 bins outside the grid.\n",
      "  warnings.warn(f\"Spot {profile.id2array(id)} cover rate: {covered_rate:0.2f}%, that {uncovered[id]:d} bins outside the grid.\")\n",
      "/home/yiriso/Research/Super-resolvedST/SuperResolvedST-Pipline/profiles.py:302: UserWarning: Spot (77, 29) cover rate: 84.51%, that 92 bins outside the grid.\n",
      "  warnings.warn(f\"Spot {profile.id2array(id)} cover rate: {covered_rate:0.2f}%, that {uncovered[id]:d} bins outside the grid.\")\n",
      "/home/yiriso/Research/Super-resolvedST/SuperResolvedST-Pipline/profiles.py:302: UserWarning: Spot (77, 31) cover rate: 84.51%, that 92 bins outside the grid.\n",
      "  warnings.warn(f\"Spot {profile.id2array(id)} cover rate: {covered_rate:0.2f}%, that {uncovered[id]:d} bins outside the grid.\")\n",
      "/home/yiriso/Research/Super-resolvedST/SuperResolvedST-Pipline/profiles.py:302: UserWarning: Spot (77, 33) cover rate: 84.51%, that 92 bins outside the grid.\n",
      "  warnings.warn(f\"Spot {profile.id2array(id)} cover rate: {covered_rate:0.2f}%, that {uncovered[id]:d} bins outside the grid.\")\n",
      "/home/yiriso/Research/Super-resolvedST/SuperResolvedST-Pipline/profiles.py:302: UserWarning: Spot (77, 35) cover rate: 84.51%, that 92 bins outside the grid.\n",
      "  warnings.warn(f\"Spot {profile.id2array(id)} cover rate: {covered_rate:0.2f}%, that {uncovered[id]:d} bins outside the grid.\")\n",
      "/home/yiriso/Research/Super-resolvedST/SuperResolvedST-Pipline/profiles.py:302: UserWarning: Spot (77, 37) cover rate: 84.51%, that 92 bins outside the grid.\n",
      "  warnings.warn(f\"Spot {profile.id2array(id)} cover rate: {covered_rate:0.2f}%, that {uncovered[id]:d} bins outside the grid.\")\n",
      "/home/yiriso/Research/Super-resolvedST/SuperResolvedST-Pipline/profiles.py:302: UserWarning: Spot (77, 39) cover rate: 84.51%, that 92 bins outside the grid.\n",
      "  warnings.warn(f\"Spot {profile.id2array(id)} cover rate: {covered_rate:0.2f}%, that {uncovered[id]:d} bins outside the grid.\")\n",
      "/home/yiriso/Research/Super-resolvedST/SuperResolvedST-Pipline/profiles.py:302: UserWarning: Spot (77, 41) cover rate: 84.51%, that 92 bins outside the grid.\n",
      "  warnings.warn(f\"Spot {profile.id2array(id)} cover rate: {covered_rate:0.2f}%, that {uncovered[id]:d} bins outside the grid.\")\n",
      "/home/yiriso/Research/Super-resolvedST/SuperResolvedST-Pipline/profiles.py:302: UserWarning: Spot (77, 43) cover rate: 84.51%, that 92 bins outside the grid.\n",
      "  warnings.warn(f\"Spot {profile.id2array(id)} cover rate: {covered_rate:0.2f}%, that {uncovered[id]:d} bins outside the grid.\")\n",
      "/home/yiriso/Research/Super-resolvedST/SuperResolvedST-Pipline/profiles.py:302: UserWarning: Spot (77, 45) cover rate: 84.51%, that 92 bins outside the grid.\n",
      "  warnings.warn(f\"Spot {profile.id2array(id)} cover rate: {covered_rate:0.2f}%, that {uncovered[id]:d} bins outside the grid.\")\n",
      "/home/yiriso/Research/Super-resolvedST/SuperResolvedST-Pipline/profiles.py:302: UserWarning: Spot (77, 47) cover rate: 84.51%, that 92 bins outside the grid.\n",
      "  warnings.warn(f\"Spot {profile.id2array(id)} cover rate: {covered_rate:0.2f}%, that {uncovered[id]:d} bins outside the grid.\")\n",
      "/home/yiriso/Research/Super-resolvedST/SuperResolvedST-Pipline/profiles.py:302: UserWarning: Spot (77, 49) cover rate: 84.51%, that 92 bins outside the grid.\n",
      "  warnings.warn(f\"Spot {profile.id2array(id)} cover rate: {covered_rate:0.2f}%, that {uncovered[id]:d} bins outside the grid.\")\n",
      "/home/yiriso/Research/Super-resolvedST/SuperResolvedST-Pipline/profiles.py:302: UserWarning: Spot (77, 51) cover rate: 84.51%, that 92 bins outside the grid.\n",
      "  warnings.warn(f\"Spot {profile.id2array(id)} cover rate: {covered_rate:0.2f}%, that {uncovered[id]:d} bins outside the grid.\")\n",
      "/home/yiriso/Research/Super-resolvedST/SuperResolvedST-Pipline/profiles.py:302: UserWarning: Spot (77, 53) cover rate: 84.51%, that 92 bins outside the grid.\n",
      "  warnings.warn(f\"Spot {profile.id2array(id)} cover rate: {covered_rate:0.2f}%, that {uncovered[id]:d} bins outside the grid.\")\n",
      "/home/yiriso/Research/Super-resolvedST/SuperResolvedST-Pipline/profiles.py:302: UserWarning: Spot (77, 55) cover rate: 84.51%, that 92 bins outside the grid.\n",
      "  warnings.warn(f\"Spot {profile.id2array(id)} cover rate: {covered_rate:0.2f}%, that {uncovered[id]:d} bins outside the grid.\")\n",
      "/home/yiriso/Research/Super-resolvedST/SuperResolvedST-Pipline/profiles.py:302: UserWarning: Spot (77, 57) cover rate: 84.51%, that 92 bins outside the grid.\n",
      "  warnings.warn(f\"Spot {profile.id2array(id)} cover rate: {covered_rate:0.2f}%, that {uncovered[id]:d} bins outside the grid.\")\n",
      "/home/yiriso/Research/Super-resolvedST/SuperResolvedST-Pipline/profiles.py:302: UserWarning: Spot (77, 59) cover rate: 84.51%, that 92 bins outside the grid.\n",
      "  warnings.warn(f\"Spot {profile.id2array(id)} cover rate: {covered_rate:0.2f}%, that {uncovered[id]:d} bins outside the grid.\")\n",
      "/home/yiriso/Research/Super-resolvedST/SuperResolvedST-Pipline/profiles.py:302: UserWarning: Spot (77, 61) cover rate: 84.51%, that 92 bins outside the grid.\n",
      "  warnings.warn(f\"Spot {profile.id2array(id)} cover rate: {covered_rate:0.2f}%, that {uncovered[id]:d} bins outside the grid.\")\n",
      "/home/yiriso/Research/Super-resolvedST/SuperResolvedST-Pipline/profiles.py:302: UserWarning: Spot (77, 63) cover rate: 84.51%, that 92 bins outside the grid.\n",
      "  warnings.warn(f\"Spot {profile.id2array(id)} cover rate: {covered_rate:0.2f}%, that {uncovered[id]:d} bins outside the grid.\")\n",
      "/home/yiriso/Research/Super-resolvedST/SuperResolvedST-Pipline/profiles.py:302: UserWarning: Spot (77, 65) cover rate: 84.51%, that 92 bins outside the grid.\n",
      "  warnings.warn(f\"Spot {profile.id2array(id)} cover rate: {covered_rate:0.2f}%, that {uncovered[id]:d} bins outside the grid.\")\n",
      "/home/yiriso/Research/Super-resolvedST/SuperResolvedST-Pipline/profiles.py:302: UserWarning: Spot (77, 67) cover rate: 84.51%, that 92 bins outside the grid.\n",
      "  warnings.warn(f\"Spot {profile.id2array(id)} cover rate: {covered_rate:0.2f}%, that {uncovered[id]:d} bins outside the grid.\")\n",
      "/home/yiriso/Research/Super-resolvedST/SuperResolvedST-Pipline/profiles.py:302: UserWarning: Spot (77, 69) cover rate: 84.51%, that 92 bins outside the grid.\n",
      "  warnings.warn(f\"Spot {profile.id2array(id)} cover rate: {covered_rate:0.2f}%, that {uncovered[id]:d} bins outside the grid.\")\n",
      "/home/yiriso/Research/Super-resolvedST/SuperResolvedST-Pipline/profiles.py:302: UserWarning: Spot (77, 71) cover rate: 84.51%, that 92 bins outside the grid.\n",
      "  warnings.warn(f\"Spot {profile.id2array(id)} cover rate: {covered_rate:0.2f}%, that {uncovered[id]:d} bins outside the grid.\")\n",
      "/home/yiriso/Research/Super-resolvedST/SuperResolvedST-Pipline/profiles.py:302: UserWarning: Spot (77, 73) cover rate: 84.51%, that 92 bins outside the grid.\n",
      "  warnings.warn(f\"Spot {profile.id2array(id)} cover rate: {covered_rate:0.2f}%, that {uncovered[id]:d} bins outside the grid.\")\n",
      "/home/yiriso/Research/Super-resolvedST/SuperResolvedST-Pipline/profiles.py:302: UserWarning: Spot (77, 75) cover rate: 84.51%, that 92 bins outside the grid.\n",
      "  warnings.warn(f\"Spot {profile.id2array(id)} cover rate: {covered_rate:0.2f}%, that {uncovered[id]:d} bins outside the grid.\")\n",
      "/home/yiriso/Research/Super-resolvedST/SuperResolvedST-Pipline/profiles.py:302: UserWarning: Spot (77, 77) cover rate: 84.51%, that 92 bins outside the grid.\n",
      "  warnings.warn(f\"Spot {profile.id2array(id)} cover rate: {covered_rate:0.2f}%, that {uncovered[id]:d} bins outside the grid.\")\n",
      "/home/yiriso/Research/Super-resolvedST/SuperResolvedST-Pipline/profiles.py:302: UserWarning: Spot (77, 79) cover rate: 84.51%, that 92 bins outside the grid.\n",
      "  warnings.warn(f\"Spot {profile.id2array(id)} cover rate: {covered_rate:0.2f}%, that {uncovered[id]:d} bins outside the grid.\")\n",
      "/home/yiriso/Research/Super-resolvedST/SuperResolvedST-Pipline/profiles.py:302: UserWarning: Spot (77, 81) cover rate: 84.51%, that 92 bins outside the grid.\n",
      "  warnings.warn(f\"Spot {profile.id2array(id)} cover rate: {covered_rate:0.2f}%, that {uncovered[id]:d} bins outside the grid.\")\n",
      "/home/yiriso/Research/Super-resolvedST/SuperResolvedST-Pipline/profiles.py:302: UserWarning: Spot (77, 83) cover rate: 84.51%, that 92 bins outside the grid.\n",
      "  warnings.warn(f\"Spot {profile.id2array(id)} cover rate: {covered_rate:0.2f}%, that {uncovered[id]:d} bins outside the grid.\")\n",
      "/home/yiriso/Research/Super-resolvedST/SuperResolvedST-Pipline/profiles.py:302: UserWarning: Spot (77, 85) cover rate: 84.51%, that 92 bins outside the grid.\n",
      "  warnings.warn(f\"Spot {profile.id2array(id)} cover rate: {covered_rate:0.2f}%, that {uncovered[id]:d} bins outside the grid.\")\n",
      "/home/yiriso/Research/Super-resolvedST/SuperResolvedST-Pipline/profiles.py:302: UserWarning: Spot (77, 87) cover rate: 84.51%, that 92 bins outside the grid.\n",
      "  warnings.warn(f\"Spot {profile.id2array(id)} cover rate: {covered_rate:0.2f}%, that {uncovered[id]:d} bins outside the grid.\")\n",
      "/home/yiriso/Research/Super-resolvedST/SuperResolvedST-Pipline/profiles.py:302: UserWarning: Spot (77, 89) cover rate: 84.51%, that 92 bins outside the grid.\n",
      "  warnings.warn(f\"Spot {profile.id2array(id)} cover rate: {covered_rate:0.2f}%, that {uncovered[id]:d} bins outside the grid.\")\n",
      "/home/yiriso/Research/Super-resolvedST/SuperResolvedST-Pipline/profiles.py:302: UserWarning: Spot (77, 91) cover rate: 84.51%, that 92 bins outside the grid.\n",
      "  warnings.warn(f\"Spot {profile.id2array(id)} cover rate: {covered_rate:0.2f}%, that {uncovered[id]:d} bins outside the grid.\")\n",
      "/home/yiriso/Research/Super-resolvedST/SuperResolvedST-Pipline/profiles.py:302: UserWarning: Spot (77, 93) cover rate: 84.51%, that 92 bins outside the grid.\n",
      "  warnings.warn(f\"Spot {profile.id2array(id)} cover rate: {covered_rate:0.2f}%, that {uncovered[id]:d} bins outside the grid.\")\n",
      "/home/yiriso/Research/Super-resolvedST/SuperResolvedST-Pipline/profiles.py:302: UserWarning: Spot (77, 95) cover rate: 84.51%, that 92 bins outside the grid.\n",
      "  warnings.warn(f\"Spot {profile.id2array(id)} cover rate: {covered_rate:0.2f}%, that {uncovered[id]:d} bins outside the grid.\")\n",
      "/home/yiriso/Research/Super-resolvedST/SuperResolvedST-Pipline/profiles.py:302: UserWarning: Spot (77, 97) cover rate: 84.51%, that 92 bins outside the grid.\n",
      "  warnings.warn(f\"Spot {profile.id2array(id)} cover rate: {covered_rate:0.2f}%, that {uncovered[id]:d} bins outside the grid.\")\n",
      "/home/yiriso/Research/Super-resolvedST/SuperResolvedST-Pipline/profiles.py:302: UserWarning: Spot (77, 99) cover rate: 84.51%, that 92 bins outside the grid.\n",
      "  warnings.warn(f\"Spot {profile.id2array(id)} cover rate: {covered_rate:0.2f}%, that {uncovered[id]:d} bins outside the grid.\")\n",
      "/home/yiriso/Research/Super-resolvedST/SuperResolvedST-Pipline/profiles.py:302: UserWarning: Spot (77, 101) cover rate: 84.51%, that 92 bins outside the grid.\n",
      "  warnings.warn(f\"Spot {profile.id2array(id)} cover rate: {covered_rate:0.2f}%, that {uncovered[id]:d} bins outside the grid.\")\n",
      "/home/yiriso/Research/Super-resolvedST/SuperResolvedST-Pipline/profiles.py:302: UserWarning: Spot (77, 103) cover rate: 84.51%, that 92 bins outside the grid.\n",
      "  warnings.warn(f\"Spot {profile.id2array(id)} cover rate: {covered_rate:0.2f}%, that {uncovered[id]:d} bins outside the grid.\")\n",
      "/home/yiriso/Research/Super-resolvedST/SuperResolvedST-Pipline/profiles.py:302: UserWarning: Spot (77, 105) cover rate: 84.51%, that 92 bins outside the grid.\n",
      "  warnings.warn(f\"Spot {profile.id2array(id)} cover rate: {covered_rate:0.2f}%, that {uncovered[id]:d} bins outside the grid.\")\n",
      "/home/yiriso/Research/Super-resolvedST/SuperResolvedST-Pipline/profiles.py:302: UserWarning: Spot (77, 107) cover rate: 84.51%, that 92 bins outside the grid.\n",
      "  warnings.warn(f\"Spot {profile.id2array(id)} cover rate: {covered_rate:0.2f}%, that {uncovered[id]:d} bins outside the grid.\")\n",
      "/home/yiriso/Research/Super-resolvedST/SuperResolvedST-Pipline/profiles.py:302: UserWarning: Spot (77, 109) cover rate: 84.51%, that 92 bins outside the grid.\n",
      "  warnings.warn(f\"Spot {profile.id2array(id)} cover rate: {covered_rate:0.2f}%, that {uncovered[id]:d} bins outside the grid.\")\n",
      "/home/yiriso/Research/Super-resolvedST/SuperResolvedST-Pipline/profiles.py:302: UserWarning: Spot (77, 111) cover rate: 84.51%, that 92 bins outside the grid.\n",
      "  warnings.warn(f\"Spot {profile.id2array(id)} cover rate: {covered_rate:0.2f}%, that {uncovered[id]:d} bins outside the grid.\")\n",
      "/home/yiriso/Research/Super-resolvedST/SuperResolvedST-Pipline/profiles.py:302: UserWarning: Spot (77, 113) cover rate: 84.51%, that 92 bins outside the grid.\n",
      "  warnings.warn(f\"Spot {profile.id2array(id)} cover rate: {covered_rate:0.2f}%, that {uncovered[id]:d} bins outside the grid.\")\n",
      "/home/yiriso/Research/Super-resolvedST/SuperResolvedST-Pipline/profiles.py:302: UserWarning: Spot (77, 115) cover rate: 84.51%, that 92 bins outside the grid.\n",
      "  warnings.warn(f\"Spot {profile.id2array(id)} cover rate: {covered_rate:0.2f}%, that {uncovered[id]:d} bins outside the grid.\")\n",
      "/home/yiriso/Research/Super-resolvedST/SuperResolvedST-Pipline/profiles.py:302: UserWarning: Spot (77, 117) cover rate: 84.51%, that 92 bins outside the grid.\n",
      "  warnings.warn(f\"Spot {profile.id2array(id)} cover rate: {covered_rate:0.2f}%, that {uncovered[id]:d} bins outside the grid.\")\n",
      "/home/yiriso/Research/Super-resolvedST/SuperResolvedST-Pipline/profiles.py:302: UserWarning: Spot (77, 119) cover rate: 84.51%, that 92 bins outside the grid.\n",
      "  warnings.warn(f\"Spot {profile.id2array(id)} cover rate: {covered_rate:0.2f}%, that {uncovered[id]:d} bins outside the grid.\")\n",
      "/home/yiriso/Research/Super-resolvedST/SuperResolvedST-Pipline/profiles.py:302: UserWarning: Spot (77, 121) cover rate: 84.51%, that 92 bins outside the grid.\n",
      "  warnings.warn(f\"Spot {profile.id2array(id)} cover rate: {covered_rate:0.2f}%, that {uncovered[id]:d} bins outside the grid.\")\n",
      "/home/yiriso/Research/Super-resolvedST/SuperResolvedST-Pipline/profiles.py:302: UserWarning: Spot (77, 123) cover rate: 84.51%, that 92 bins outside the grid.\n",
      "  warnings.warn(f\"Spot {profile.id2array(id)} cover rate: {covered_rate:0.2f}%, that {uncovered[id]:d} bins outside the grid.\")\n",
      "/home/yiriso/Research/Super-resolvedST/SuperResolvedST-Pipline/profiles.py:302: UserWarning: Spot (77, 125) cover rate: 84.51%, that 92 bins outside the grid.\n",
      "  warnings.warn(f\"Spot {profile.id2array(id)} cover rate: {covered_rate:0.2f}%, that {uncovered[id]:d} bins outside the grid.\")\n",
      "/home/yiriso/Research/Super-resolvedST/SuperResolvedST-Pipline/profiles.py:302: UserWarning: Spot (77, 127) cover rate: 84.51%, that 92 bins outside the grid.\n",
      "  warnings.warn(f\"Spot {profile.id2array(id)} cover rate: {covered_rate:0.2f}%, that {uncovered[id]:d} bins outside the grid.\")\n"
     ]
    },
    {
     "name": "stdout",
     "output_type": "stream",
     "text": [
      "100\n",
      "200\n",
      "300\n",
      "400\n",
      "500\n",
      "600\n",
      "700\n",
      "800\n",
      "900\n",
      "1000\n",
      "1100\n",
      "1200\n",
      "1300\n",
      "1400\n",
      "1500\n",
      "1600\n",
      "1700\n",
      "1800\n",
      "1900\n",
      "2000\n",
      "2100\n",
      "2200\n",
      "2300\n",
      "2400\n",
      "2500\n",
      "2600\n",
      "2700\n",
      "2800\n",
      "2900\n",
      "3000\n",
      "3100\n",
      "3200\n",
      "3300\n",
      "3400\n",
      "3500\n",
      "3600\n",
      "3700\n",
      "3800\n",
      "3900\n",
      "4000\n",
      "4100\n",
      "4200\n",
      "4300\n",
      "4400\n",
      "4500\n",
      "4600\n",
      "4700\n",
      "4800\n",
      "4900\n"
     ]
    }
   ],
   "source": [
    "emulate_visium = rawdata.HD2Visium(visium_profile)"
   ]
  },
  {
   "cell_type": "code",
   "execution_count": 5,
   "id": "be0b23bf-0037-4c64-b825-9a54a6ca1df4",
   "metadata": {},
   "outputs": [
    {
     "name": "stdout",
     "output_type": "stream",
     "text": [
      "Start save\n",
      "Finish save in 7.4856 s\n"
     ]
    }
   ],
   "source": [
    "save_path = Path('test/HD2Visium')\n",
    "emulate_visium.save(save_path)"
   ]
  },
  {
   "cell_type": "markdown",
   "id": "b028c07d-36f5-444f-8b0f-a17de4a2df8f",
   "metadata": {},
   "source": [
    "## 使用 iStar 生成 Visium 的高分辨率图像 "
   ]
  },
  {
   "cell_type": "code",
   "execution_count": 2,
   "id": "3c7ce96f-3cb8-4278-a3a6-451138a35c01",
   "metadata": {},
   "outputs": [],
   "source": [
    "visium_path = Path('test/HD2Visium')\n",
    "iStar_visium = iStar()\n",
    "# iStar_visium.load(path=visium_path, source_image_path=visium_path/\"image.tif\")"
   ]
  },
  {
   "cell_type": "code",
   "execution_count": 3,
   "id": "9bdc6048-172c-4ca9-8182-b710bbef20bd",
   "metadata": {},
   "outputs": [],
   "source": [
    "mask = iStar_visium.tissue_mask(auto_mask=True)\n",
    "iStar_visium.select_HVG(n_top_genes=2000)"
   ]
  },
  {
   "cell_type": "code",
   "execution_count": 4,
   "id": "dc459fe8-9ee4-425d-8731-88b9e3ab3ade",
   "metadata": {},
   "outputs": [],
   "source": [
    "iStar_visium.set_super_pixel_size(8)"
   ]
  },
  {
   "cell_type": "code",
   "execution_count": 3,
   "id": "348a0969-57e1-4694-9796-e738971c0db5",
   "metadata": {
    "scrolled": true
   },
   "outputs": [],
   "source": [
    "istar_dir = Path(\"test/istar\")\n",
    "# iStar_visium.save_inpout(istar_dir)"
   ]
  },
  {
   "cell_type": "code",
   "execution_count": 6,
   "id": "ee3a85da-9c5d-4201-9237-525d819902db",
   "metadata": {},
   "outputs": [
    {
     "data": {
      "text/plain": [
       "(40732, 65199, 3)"
      ]
     },
     "execution_count": 6,
     "metadata": {},
     "output_type": "execute_result"
    }
   ],
   "source": [
    "iStar_visium.image.shape"
   ]
  },
  {
   "cell_type": "markdown",
   "id": "2774c381-e005-45eb-9af5-bbb813c0e25a",
   "metadata": {},
   "source": [
    "conda 环境切换到 iStar， 在 shell 下运行 iStar 工具"
   ]
  },
  {
   "cell_type": "raw",
   "id": "4ccff348-e1d6-4360-b139-99a4dc055a7d",
   "metadata": {},
   "source": [
    "$ ./Run-iStar test/istar"
   ]
  },
  {
   "cell_type": "markdown",
   "id": "dcd1302c-994f-46fb-bade-89177808e774",
   "metadata": {},
   "source": [
    "iStar 工具结束后读取结果"
   ]
  },
  {
   "cell_type": "code",
   "execution_count": 4,
   "id": "97381753-dcbb-48a6-bfc6-62c4d02c0270",
   "metadata": {},
   "outputs": [],
   "source": [
    "iStar_visium.load_output(istar_dir)"
   ]
  },
  {
   "cell_type": "code",
   "execution_count": 6,
   "id": "ab3c3b3c-833b-4ed0-acb9-58bea2d55d15",
   "metadata": {},
   "outputs": [
    {
     "name": "stdout",
     "output_type": "stream",
     "text": [
      "Start to_h5ad\n"
     ]
    },
    {
     "name": "stderr",
     "output_type": "stream",
     "text": [
      "/home/yiriso/anaconda3/envs/DataReader/lib/python3.10/site-packages/anndata/_core/aligned_df.py:68: ImplicitModificationWarning: Transforming to str index.\n",
      "  warnings.warn(\"Transforming to str index.\", ImplicitModificationWarning)\n"
     ]
    },
    {
     "name": "stdout",
     "output_type": "stream",
     "text": [
      "Finish to_h5ad in 0.8186 s\n"
     ]
    }
   ],
   "source": [
    "# iStar_visium.to_csv()\n",
    "iStar_visium.to_h5ad()"
   ]
  },
  {
   "cell_type": "markdown",
   "id": "5ab55cc9-fbc3-4833-b40b-cfd0de84bc79",
   "metadata": {},
   "source": [
    "## 使用 iStar 从 Visium 生成 VisiumHD 数据"
   ]
  },
  {
   "cell_type": "code",
   "execution_count": null,
   "id": "7d1f6860-b84f-4425-be11-f4e7b9581223",
   "metadata": {},
   "outputs": [],
   "source": []
  }
 ],
 "metadata": {
  "kernelspec": {
   "display_name": "Python [conda env:DataReader]",
   "language": "python",
   "name": "conda-env-DataReader-py"
  },
  "language_info": {
   "codemirror_mode": {
    "name": "ipython",
    "version": 3
   },
   "file_extension": ".py",
   "mimetype": "text/x-python",
   "name": "python",
   "nbconvert_exporter": "python",
   "pygments_lexer": "ipython3",
   "version": "3.10.13"
  }
 },
 "nbformat": 4,
 "nbformat_minor": 5
}
