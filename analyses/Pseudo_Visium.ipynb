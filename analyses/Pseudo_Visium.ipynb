{
 "cells": [
  {
   "cell_type": "markdown",
   "id": "b1995329-a1ed-41b7-ae30-97b55ab84428",
   "metadata": {},
   "source": [
    "实验设计：\n",
    "- 从 VisiumHD 采用 2um bin 生成 pseudo Visium\n",
    "- 将 pseudo Visium 输入 iStar 进行超分，采用 VisiumHD 模式 16um bin\n",
    "- VisiumHD 合并成 16um 和超分后的像素一一对应\n",
    "- 计算 pcc, mse\n",
    "\n",
    "### 数据准备\n"
   ]
  },
  {
   "cell_type": "code",
   "execution_count": null,
   "id": "3e23d165-3ffb-4e0c-8eb5-aa0abcc948af",
   "metadata": {},
   "outputs": [],
   "source": []
  }
 ],
 "metadata": {
  "kernelspec": {
   "display_name": "Python [conda env:DataReader]",
   "language": "python",
   "name": "conda-env-DataReader-py"
  },
  "language_info": {
   "codemirror_mode": {
    "name": "ipython",
    "version": 3
   },
   "file_extension": ".py",
   "mimetype": "text/x-python",
   "name": "python",
   "nbconvert_exporter": "python",
   "pygments_lexer": "ipython3",
   "version": "3.10.13"
  }
 },
 "nbformat": 4,
 "nbformat_minor": 5
}
